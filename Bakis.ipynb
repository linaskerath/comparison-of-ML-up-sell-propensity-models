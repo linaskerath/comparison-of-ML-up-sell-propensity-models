{
  "nbformat": 4,
  "nbformat_minor": 0,
  "metadata": {
    "colab": {
      "name": "Bakis.ipynb",
      "provenance": [],
      "collapsed_sections": [
        "8Wnb8WVXv4kD",
        "-cwuIiN9uElG",
        "3u3Lt7nyPVUz",
        "cP5y57wJB49t",
        "UBuLANSlTfOm",
        "qwspO3TuPh6b",
        "LVqTX81wPoMW",
        "wb-GaGK6TTA1",
        "8SUor_qPPror"
      ],
      "authorship_tag": "ABX9TyOlicMcKxdTYaOc9InKt+qI",
      "include_colab_link": true
    },
    "kernelspec": {
      "display_name": "Python 3",
      "name": "python3"
    },
    "language_info": {
      "name": "python"
    }
  },
  "cells": [
    {
      "cell_type": "markdown",
      "metadata": {
        "id": "view-in-github",
        "colab_type": "text"
      },
      "source": [
        "<a href=\"https://colab.research.google.com/github/linaskerath/comparison-of-ML-up-sell-propensity-models/blob/main/Bakis.ipynb\" target=\"_parent\"><img src=\"https://colab.research.google.com/assets/colab-badge.svg\" alt=\"Open In Colab\"/></a>"
      ]
    },
    {
      "cell_type": "markdown",
      "metadata": {
        "id": "Mn8n5xMaP1Mt"
      },
      "source": [
        "## **A comparison of machine learning up-sell propensity models for the telecommunication sector**\n"
      ]
    },
    {
      "cell_type": "code",
      "metadata": {
        "colab": {
          "base_uri": "https://localhost:8080/"
        },
        "id": "mQ3RmGXweUNx",
        "outputId": "0221e6a7-fd53-4eac-cb5f-70ebcb7bcbf4"
      },
      "source": [
        "from google.colab import drive\n",
        "drive.mount('/content/drive') "
      ],
      "execution_count": 1,
      "outputs": [
        {
          "output_type": "stream",
          "text": [
            "Drive already mounted at /content/drive; to attempt to forcibly remount, call drive.mount(\"/content/drive\", force_remount=True).\n"
          ],
          "name": "stdout"
        }
      ]
    },
    {
      "cell_type": "code",
      "metadata": {
        "id": "pm5q2EasO4Ll"
      },
      "source": [
        "import numpy as np\n",
        "import pandas as pd\n",
        "\n",
        "import seaborn as sns\n",
        "import matplotlib.pyplot as plt\n",
        "\n",
        "from sklearn.metrics import confusion_matrix\n",
        "\n",
        "services = pd.read_csv('/content/drive/My Drive/Bakis/model_data_new.csv')\n",
        "services = services.drop(['Unnamed: 0', 'contract_end_date'], axis = 1)\n"
      ],
      "execution_count": 2,
      "outputs": []
    },
    {
      "cell_type": "code",
      "metadata": {
        "colab": {
          "base_uri": "https://localhost:8080/",
          "height": 444
        },
        "id": "h7yQBtX-PdcR",
        "outputId": "7a1254a2-48c4-4be2-8d36-461d3f0628c5"
      },
      "source": [
        "services"
      ],
      "execution_count": 3,
      "outputs": [
        {
          "output_type": "execute_result",
          "data": {
            "text/html": [
              "<div>\n",
              "<style scoped>\n",
              "    .dataframe tbody tr th:only-of-type {\n",
              "        vertical-align: middle;\n",
              "    }\n",
              "\n",
              "    .dataframe tbody tr th {\n",
              "        vertical-align: top;\n",
              "    }\n",
              "\n",
              "    .dataframe thead th {\n",
              "        text-align: right;\n",
              "    }\n",
              "</style>\n",
              "<table border=\"1\" class=\"dataframe\">\n",
              "  <thead>\n",
              "    <tr style=\"text-align: right;\">\n",
              "      <th></th>\n",
              "      <th>account_id</th>\n",
              "      <th>cust_id</th>\n",
              "      <th>customer_age</th>\n",
              "      <th>customer_gender</th>\n",
              "      <th>subscription_prepaid</th>\n",
              "      <th>subscription_postpaid</th>\n",
              "      <th>m_voice</th>\n",
              "      <th>m_data</th>\n",
              "      <th>adsl</th>\n",
              "      <th>dth</th>\n",
              "      <th>fttx</th>\n",
              "      <th>iptv</th>\n",
              "      <th>mobix</th>\n",
              "      <th>vdsl</th>\n",
              "      <th>web_tv</th>\n",
              "      <th>fix_voice</th>\n",
              "      <th>tv_c</th>\n",
              "      <th>bb_c</th>\n",
              "      <th>iptv_c</th>\n",
              "      <th>dth_c</th>\n",
              "      <th>fttx_c</th>\n",
              "      <th>adsl_c</th>\n",
              "      <th>mobix_c</th>\n",
              "      <th>vdsl_c</th>\n",
              "      <th>voice_c</th>\n",
              "      <th>data_c</th>\n",
              "      <th>fixed_voice_c</th>\n",
              "      <th>prepaid_c</th>\n",
              "      <th>sales20</th>\n",
              "      <th>consumption</th>\n",
              "      <th>combination</th>\n",
              "      <th>sales21</th>\n",
              "    </tr>\n",
              "  </thead>\n",
              "  <tbody>\n",
              "    <tr>\n",
              "      <th>0</th>\n",
              "      <td>B-876402446-5678739</td>\n",
              "      <td>5678739</td>\n",
              "      <td>51.0</td>\n",
              "      <td>Male</td>\n",
              "      <td>0</td>\n",
              "      <td>1</td>\n",
              "      <td>0</td>\n",
              "      <td>0</td>\n",
              "      <td>0</td>\n",
              "      <td>0</td>\n",
              "      <td>0</td>\n",
              "      <td>0</td>\n",
              "      <td>1</td>\n",
              "      <td>0</td>\n",
              "      <td>0</td>\n",
              "      <td>0</td>\n",
              "      <td>0</td>\n",
              "      <td>1</td>\n",
              "      <td>0</td>\n",
              "      <td>0</td>\n",
              "      <td>0</td>\n",
              "      <td>0</td>\n",
              "      <td>1</td>\n",
              "      <td>0</td>\n",
              "      <td>4</td>\n",
              "      <td>0</td>\n",
              "      <td>0</td>\n",
              "      <td>0</td>\n",
              "      <td>10.80</td>\n",
              "      <td>0</td>\n",
              "      <td>1</td>\n",
              "      <td>11.80</td>\n",
              "    </tr>\n",
              "    <tr>\n",
              "      <th>1</th>\n",
              "      <td>F-LN.1742938-10201388</td>\n",
              "      <td>10201388</td>\n",
              "      <td>50.0</td>\n",
              "      <td>Female</td>\n",
              "      <td>0</td>\n",
              "      <td>1</td>\n",
              "      <td>0</td>\n",
              "      <td>0</td>\n",
              "      <td>0</td>\n",
              "      <td>0</td>\n",
              "      <td>1</td>\n",
              "      <td>0</td>\n",
              "      <td>0</td>\n",
              "      <td>0</td>\n",
              "      <td>0</td>\n",
              "      <td>0</td>\n",
              "      <td>1</td>\n",
              "      <td>1</td>\n",
              "      <td>1</td>\n",
              "      <td>0</td>\n",
              "      <td>1</td>\n",
              "      <td>0</td>\n",
              "      <td>0</td>\n",
              "      <td>0</td>\n",
              "      <td>5</td>\n",
              "      <td>0</td>\n",
              "      <td>0</td>\n",
              "      <td>0</td>\n",
              "      <td>11.80</td>\n",
              "      <td>0</td>\n",
              "      <td>1</td>\n",
              "      <td>12.80</td>\n",
              "    </tr>\n",
              "    <tr>\n",
              "      <th>2</th>\n",
              "      <td>F-LN.2131735-16637617</td>\n",
              "      <td>16637617</td>\n",
              "      <td>21.0</td>\n",
              "      <td>Male</td>\n",
              "      <td>0</td>\n",
              "      <td>1</td>\n",
              "      <td>0</td>\n",
              "      <td>0</td>\n",
              "      <td>0</td>\n",
              "      <td>0</td>\n",
              "      <td>1</td>\n",
              "      <td>0</td>\n",
              "      <td>0</td>\n",
              "      <td>0</td>\n",
              "      <td>0</td>\n",
              "      <td>0</td>\n",
              "      <td>0</td>\n",
              "      <td>1</td>\n",
              "      <td>0</td>\n",
              "      <td>0</td>\n",
              "      <td>1</td>\n",
              "      <td>0</td>\n",
              "      <td>0</td>\n",
              "      <td>0</td>\n",
              "      <td>1</td>\n",
              "      <td>0</td>\n",
              "      <td>0</td>\n",
              "      <td>0</td>\n",
              "      <td>10.80</td>\n",
              "      <td>0</td>\n",
              "      <td>1</td>\n",
              "      <td>9.80</td>\n",
              "    </tr>\n",
              "    <tr>\n",
              "      <th>3</th>\n",
              "      <td>F-LN.P-1165771-11996293</td>\n",
              "      <td>11996293</td>\n",
              "      <td>50.0</td>\n",
              "      <td>Female</td>\n",
              "      <td>0</td>\n",
              "      <td>1</td>\n",
              "      <td>0</td>\n",
              "      <td>0</td>\n",
              "      <td>0</td>\n",
              "      <td>0</td>\n",
              "      <td>1</td>\n",
              "      <td>0</td>\n",
              "      <td>0</td>\n",
              "      <td>0</td>\n",
              "      <td>0</td>\n",
              "      <td>0</td>\n",
              "      <td>1</td>\n",
              "      <td>1</td>\n",
              "      <td>1</td>\n",
              "      <td>0</td>\n",
              "      <td>1</td>\n",
              "      <td>0</td>\n",
              "      <td>0</td>\n",
              "      <td>0</td>\n",
              "      <td>4</td>\n",
              "      <td>1</td>\n",
              "      <td>0</td>\n",
              "      <td>0</td>\n",
              "      <td>11.80</td>\n",
              "      <td>0</td>\n",
              "      <td>1</td>\n",
              "      <td>12.80</td>\n",
              "    </tr>\n",
              "    <tr>\n",
              "      <th>4</th>\n",
              "      <td>I-IP.1297897-1143278</td>\n",
              "      <td>1143278</td>\n",
              "      <td>42.0</td>\n",
              "      <td>Female</td>\n",
              "      <td>0</td>\n",
              "      <td>1</td>\n",
              "      <td>0</td>\n",
              "      <td>0</td>\n",
              "      <td>0</td>\n",
              "      <td>0</td>\n",
              "      <td>0</td>\n",
              "      <td>1</td>\n",
              "      <td>0</td>\n",
              "      <td>0</td>\n",
              "      <td>0</td>\n",
              "      <td>0</td>\n",
              "      <td>2</td>\n",
              "      <td>2</td>\n",
              "      <td>2</td>\n",
              "      <td>0</td>\n",
              "      <td>2</td>\n",
              "      <td>0</td>\n",
              "      <td>0</td>\n",
              "      <td>0</td>\n",
              "      <td>3</td>\n",
              "      <td>0</td>\n",
              "      <td>2</td>\n",
              "      <td>0</td>\n",
              "      <td>13.38</td>\n",
              "      <td>0</td>\n",
              "      <td>1</td>\n",
              "      <td>15.38</td>\n",
              "    </tr>\n",
              "    <tr>\n",
              "      <th>...</th>\n",
              "      <td>...</td>\n",
              "      <td>...</td>\n",
              "      <td>...</td>\n",
              "      <td>...</td>\n",
              "      <td>...</td>\n",
              "      <td>...</td>\n",
              "      <td>...</td>\n",
              "      <td>...</td>\n",
              "      <td>...</td>\n",
              "      <td>...</td>\n",
              "      <td>...</td>\n",
              "      <td>...</td>\n",
              "      <td>...</td>\n",
              "      <td>...</td>\n",
              "      <td>...</td>\n",
              "      <td>...</td>\n",
              "      <td>...</td>\n",
              "      <td>...</td>\n",
              "      <td>...</td>\n",
              "      <td>...</td>\n",
              "      <td>...</td>\n",
              "      <td>...</td>\n",
              "      <td>...</td>\n",
              "      <td>...</td>\n",
              "      <td>...</td>\n",
              "      <td>...</td>\n",
              "      <td>...</td>\n",
              "      <td>...</td>\n",
              "      <td>...</td>\n",
              "      <td>...</td>\n",
              "      <td>...</td>\n",
              "      <td>...</td>\n",
              "    </tr>\n",
              "    <tr>\n",
              "      <th>1224995</th>\n",
              "      <td>L-067062513-12624503</td>\n",
              "      <td>12624503</td>\n",
              "      <td>60.0</td>\n",
              "      <td>Female</td>\n",
              "      <td>0</td>\n",
              "      <td>1</td>\n",
              "      <td>0</td>\n",
              "      <td>0</td>\n",
              "      <td>0</td>\n",
              "      <td>0</td>\n",
              "      <td>0</td>\n",
              "      <td>0</td>\n",
              "      <td>0</td>\n",
              "      <td>0</td>\n",
              "      <td>0</td>\n",
              "      <td>0</td>\n",
              "      <td>0</td>\n",
              "      <td>1</td>\n",
              "      <td>0</td>\n",
              "      <td>0</td>\n",
              "      <td>0</td>\n",
              "      <td>0</td>\n",
              "      <td>0</td>\n",
              "      <td>1</td>\n",
              "      <td>0</td>\n",
              "      <td>0</td>\n",
              "      <td>1</td>\n",
              "      <td>0</td>\n",
              "      <td>0.00</td>\n",
              "      <td>0</td>\n",
              "      <td>0</td>\n",
              "      <td>0.00</td>\n",
              "    </tr>\n",
              "    <tr>\n",
              "      <th>1224996</th>\n",
              "      <td>L-082835491-11636760</td>\n",
              "      <td>11636760</td>\n",
              "      <td>67.0</td>\n",
              "      <td>Male</td>\n",
              "      <td>0</td>\n",
              "      <td>1</td>\n",
              "      <td>0</td>\n",
              "      <td>0</td>\n",
              "      <td>0</td>\n",
              "      <td>0</td>\n",
              "      <td>0</td>\n",
              "      <td>0</td>\n",
              "      <td>0</td>\n",
              "      <td>0</td>\n",
              "      <td>0</td>\n",
              "      <td>0</td>\n",
              "      <td>0</td>\n",
              "      <td>0</td>\n",
              "      <td>0</td>\n",
              "      <td>0</td>\n",
              "      <td>0</td>\n",
              "      <td>0</td>\n",
              "      <td>0</td>\n",
              "      <td>0</td>\n",
              "      <td>0</td>\n",
              "      <td>1</td>\n",
              "      <td>1</td>\n",
              "      <td>0</td>\n",
              "      <td>0.00</td>\n",
              "      <td>0</td>\n",
              "      <td>0</td>\n",
              "      <td>0.00</td>\n",
              "    </tr>\n",
              "    <tr>\n",
              "      <th>1224997</th>\n",
              "      <td>T-TV.3076110241004-15834376</td>\n",
              "      <td>15834376</td>\n",
              "      <td>44.0</td>\n",
              "      <td>Female</td>\n",
              "      <td>0</td>\n",
              "      <td>1</td>\n",
              "      <td>0</td>\n",
              "      <td>0</td>\n",
              "      <td>0</td>\n",
              "      <td>1</td>\n",
              "      <td>0</td>\n",
              "      <td>0</td>\n",
              "      <td>0</td>\n",
              "      <td>0</td>\n",
              "      <td>0</td>\n",
              "      <td>0</td>\n",
              "      <td>2</td>\n",
              "      <td>0</td>\n",
              "      <td>0</td>\n",
              "      <td>2</td>\n",
              "      <td>0</td>\n",
              "      <td>0</td>\n",
              "      <td>0</td>\n",
              "      <td>0</td>\n",
              "      <td>1</td>\n",
              "      <td>0</td>\n",
              "      <td>0</td>\n",
              "      <td>0</td>\n",
              "      <td>22.88</td>\n",
              "      <td>0</td>\n",
              "      <td>1</td>\n",
              "      <td>28.14</td>\n",
              "    </tr>\n",
              "    <tr>\n",
              "      <th>1224998</th>\n",
              "      <td>T-TV.4955399141002-14998077</td>\n",
              "      <td>14998077</td>\n",
              "      <td>62.0</td>\n",
              "      <td>Male</td>\n",
              "      <td>0</td>\n",
              "      <td>1</td>\n",
              "      <td>0</td>\n",
              "      <td>0</td>\n",
              "      <td>0</td>\n",
              "      <td>1</td>\n",
              "      <td>0</td>\n",
              "      <td>0</td>\n",
              "      <td>0</td>\n",
              "      <td>0</td>\n",
              "      <td>0</td>\n",
              "      <td>0</td>\n",
              "      <td>1</td>\n",
              "      <td>0</td>\n",
              "      <td>0</td>\n",
              "      <td>1</td>\n",
              "      <td>0</td>\n",
              "      <td>0</td>\n",
              "      <td>0</td>\n",
              "      <td>0</td>\n",
              "      <td>0</td>\n",
              "      <td>0</td>\n",
              "      <td>0</td>\n",
              "      <td>0</td>\n",
              "      <td>18.39</td>\n",
              "      <td>0</td>\n",
              "      <td>0</td>\n",
              "      <td>18.38</td>\n",
              "    </tr>\n",
              "    <tr>\n",
              "      <th>1224999</th>\n",
              "      <td>T-TV.5267799141007-12910986</td>\n",
              "      <td>12910986</td>\n",
              "      <td>71.0</td>\n",
              "      <td>Female</td>\n",
              "      <td>0</td>\n",
              "      <td>1</td>\n",
              "      <td>0</td>\n",
              "      <td>0</td>\n",
              "      <td>0</td>\n",
              "      <td>1</td>\n",
              "      <td>0</td>\n",
              "      <td>0</td>\n",
              "      <td>0</td>\n",
              "      <td>0</td>\n",
              "      <td>0</td>\n",
              "      <td>0</td>\n",
              "      <td>1</td>\n",
              "      <td>0</td>\n",
              "      <td>0</td>\n",
              "      <td>1</td>\n",
              "      <td>0</td>\n",
              "      <td>0</td>\n",
              "      <td>0</td>\n",
              "      <td>0</td>\n",
              "      <td>0</td>\n",
              "      <td>0</td>\n",
              "      <td>1</td>\n",
              "      <td>0</td>\n",
              "      <td>14.80</td>\n",
              "      <td>0</td>\n",
              "      <td>0</td>\n",
              "      <td>15.98</td>\n",
              "    </tr>\n",
              "  </tbody>\n",
              "</table>\n",
              "<p>1225000 rows × 32 columns</p>\n",
              "</div>"
            ],
            "text/plain": [
              "                          account_id   cust_id  ...  combination sales21\n",
              "0                B-876402446-5678739   5678739  ...            1   11.80\n",
              "1              F-LN.1742938-10201388  10201388  ...            1   12.80\n",
              "2              F-LN.2131735-16637617  16637617  ...            1    9.80\n",
              "3            F-LN.P-1165771-11996293  11996293  ...            1   12.80\n",
              "4               I-IP.1297897-1143278   1143278  ...            1   15.38\n",
              "...                              ...       ...  ...          ...     ...\n",
              "1224995         L-067062513-12624503  12624503  ...            0    0.00\n",
              "1224996         L-082835491-11636760  11636760  ...            0    0.00\n",
              "1224997  T-TV.3076110241004-15834376  15834376  ...            1   28.14\n",
              "1224998  T-TV.4955399141002-14998077  14998077  ...            0   18.38\n",
              "1224999  T-TV.5267799141007-12910986  12910986  ...            0   15.98\n",
              "\n",
              "[1225000 rows x 32 columns]"
            ]
          },
          "metadata": {
            "tags": []
          },
          "execution_count": 3
        }
      ]
    },
    {
      "cell_type": "code",
      "metadata": {
        "id": "Hm45bdCYv3sj"
      },
      "source": [
        "# # TEMPORARY\n",
        "# #services['customer_age'].fillna(int(services['customer_age'].median()), inplace=True)\n",
        "# services['delta'] = np.where((services['sales21']-services['sales20'])>0.5, 1, 0)\n",
        "# services = services.drop(['account_id', 'cust_id', 'customer_gender', 'consumption', 'sales21', 'customer_age'], axis=1) \n",
        "# labels = np.array(services.pop('delta')) "
      ],
      "execution_count": 4,
      "outputs": []
    },
    {
      "cell_type": "markdown",
      "metadata": {
        "id": "8Wnb8WVXv4kD"
      },
      "source": [
        "### EDA and feature engineering\n"
      ]
    },
    {
      "cell_type": "code",
      "metadata": {
        "colab": {
          "base_uri": "https://localhost:8080/"
        },
        "id": "z4gIwJT1AAdb",
        "outputId": "79311be1-597e-453a-b66d-1d3a89c7524a"
      },
      "source": [
        "# lookup if there are missing values\n",
        "services.info()"
      ],
      "execution_count": 5,
      "outputs": [
        {
          "output_type": "stream",
          "text": [
            "<class 'pandas.core.frame.DataFrame'>\n",
            "RangeIndex: 1225000 entries, 0 to 1224999\n",
            "Data columns (total 32 columns):\n",
            " #   Column                 Non-Null Count    Dtype  \n",
            "---  ------                 --------------    -----  \n",
            " 0   account_id             1225000 non-null  object \n",
            " 1   cust_id                1225000 non-null  int64  \n",
            " 2   customer_age           1214071 non-null  float64\n",
            " 3   customer_gender        1209491 non-null  object \n",
            " 4   subscription_prepaid   1225000 non-null  int64  \n",
            " 5   subscription_postpaid  1225000 non-null  int64  \n",
            " 6   m_voice                1225000 non-null  int64  \n",
            " 7   m_data                 1225000 non-null  int64  \n",
            " 8   adsl                   1225000 non-null  int64  \n",
            " 9   dth                    1225000 non-null  int64  \n",
            " 10  fttx                   1225000 non-null  int64  \n",
            " 11  iptv                   1225000 non-null  int64  \n",
            " 12  mobix                  1225000 non-null  int64  \n",
            " 13  vdsl                   1225000 non-null  int64  \n",
            " 14  web_tv                 1225000 non-null  int64  \n",
            " 15  fix_voice              1225000 non-null  int64  \n",
            " 16  tv_c                   1225000 non-null  int64  \n",
            " 17  bb_c                   1225000 non-null  int64  \n",
            " 18  iptv_c                 1225000 non-null  int64  \n",
            " 19  dth_c                  1225000 non-null  int64  \n",
            " 20  fttx_c                 1225000 non-null  int64  \n",
            " 21  adsl_c                 1225000 non-null  int64  \n",
            " 22  mobix_c                1225000 non-null  int64  \n",
            " 23  vdsl_c                 1225000 non-null  int64  \n",
            " 24  voice_c                1225000 non-null  int64  \n",
            " 25  data_c                 1225000 non-null  int64  \n",
            " 26  fixed_voice_c          1225000 non-null  int64  \n",
            " 27  prepaid_c              1225000 non-null  int64  \n",
            " 28  sales20                1225000 non-null  float64\n",
            " 29  consumption            1225000 non-null  object \n",
            " 30  combination            1225000 non-null  int64  \n",
            " 31  sales21                1225000 non-null  float64\n",
            "dtypes: float64(3), int64(26), object(3)\n",
            "memory usage: 299.1+ MB\n"
          ],
          "name": "stdout"
        }
      ]
    },
    {
      "cell_type": "code",
      "metadata": {
        "id": "zY8bikS6jsKa"
      },
      "source": [
        "# fill NA age values with median value\n",
        "services['customer_age'].fillna(int(services['customer_age'].median()), inplace=True)\n",
        "# fill NA gernder values with previous value \n",
        "services['customer_gender'].fillna(method = 'ffill', inplace=True)\n",
        "\n",
        "# encode gender in binary\n",
        "services['gender'] = 0\n",
        "services.loc[services['customer_gender']== 'Male', 'gender'] = 1\n",
        "services = services.drop(['customer_gender'], axis=1)"
      ],
      "execution_count": 6,
      "outputs": []
    },
    {
      "cell_type": "code",
      "metadata": {
        "colab": {
          "base_uri": "https://localhost:8080/"
        },
        "id": "1Zvmo_dQDUE9",
        "outputId": "ad052932-a4b6-4987-c92d-bc683c86e4d3"
      },
      "source": [
        "# check if any more NA are left \n",
        "services.isnull().values.any()"
      ],
      "execution_count": 7,
      "outputs": [
        {
          "output_type": "execute_result",
          "data": {
            "text/plain": [
              "False"
            ]
          },
          "metadata": {
            "tags": []
          },
          "execution_count": 7
        }
      ]
    },
    {
      "cell_type": "code",
      "metadata": {
        "colab": {
          "base_uri": "https://localhost:8080/"
        },
        "id": "dACHws6bhDww",
        "outputId": "f57812ec-4ca8-43bc-c6b5-6bd582b6f1a9"
      },
      "source": [
        "# create LABELS - if revenue increased by more than 1ct then 1, else 0.\n",
        "services['delta'] = np.where((services['sales21']-services['sales20'])>0.5, 1, 0)\n",
        "\n",
        "# dataset is not perfectly balanced - there are 20% more 1 than 0; ratio is 55:45\n",
        "print(services['delta'].value_counts())"
      ],
      "execution_count": 8,
      "outputs": [
        {
          "output_type": "stream",
          "text": [
            "1    668790\n",
            "0    556210\n",
            "Name: delta, dtype: int64\n"
          ],
          "name": "stdout"
        }
      ]
    },
    {
      "cell_type": "code",
      "metadata": {
        "id": "amI00WPLFomg"
      },
      "source": [
        "# overall spending amount of each customer and service percentage of overall\n",
        "all_sales = services.groupby('cust_id')['sales20'].sum().reset_index()\n",
        "all_sales = all_sales.rename(columns = {'sales20': 'all_sales'}, inplace = False)\n",
        "services = pd.merge(services,all_sales,on='cust_id',how='left')\n",
        "services['sales_percentage'] = services['sales20'] / services['all_sales']\n",
        "services['sales_percentage'] = services['sales_percentage'].fillna(0)\n",
        "services = services.drop(['sales21'], axis=1)"
      ],
      "execution_count": 9,
      "outputs": []
    },
    {
      "cell_type": "markdown",
      "metadata": {
        "id": "Uy240U3kfDFd"
      },
      "source": [
        "### Exploratory data analysis"
      ]
    },
    {
      "cell_type": "code",
      "metadata": {
        "colab": {
          "base_uri": "https://localhost:8080/"
        },
        "id": "naV6l5G6vkh0",
        "outputId": "45ed80af-4d7e-4069-cfac-49a69e54edb1"
      },
      "source": [
        "for column in services.columns[3:27]:\n",
        "  print(f'{column} : {services[column].sum()}')\n",
        "\n",
        "for column in services.columns[29:-2]:\n",
        "  print(f'{column} : {services[column].sum()}')\n",
        "# all : 1 225 000\n",
        "\n",
        "# fix_voice,web_tv can be dropped:\n",
        "services = services.drop(['fix_voice', 'web_tv', 'subscription_postpaid'], axis=1)"
      ],
      "execution_count": 10,
      "outputs": [
        {
          "output_type": "stream",
          "text": [
            "subscription_prepaid : 236727\n",
            "subscription_postpaid : 988273\n",
            "m_voice : 770582\n",
            "m_data : 55073\n",
            "adsl : 24888\n",
            "dth : 79609\n",
            "fttx : 112201\n",
            "iptv : 105303\n",
            "mobix : 20211\n",
            "vdsl : 13963\n",
            "web_tv : 404\n",
            "fix_voice : 0\n",
            "tv_c : 672013\n",
            "bb_c : 668134\n",
            "iptv_c : 384120\n",
            "dth_c : 287893\n",
            "fttx_c : 416456\n",
            "adsl_c : 99330\n",
            "mobix_c : 95336\n",
            "vdsl_c : 57012\n",
            "voice_c : 1665360\n",
            "data_c : 332675\n",
            "fixed_voice_c : 220689\n",
            "prepaid_c : 493046\n",
            "combination : 503985\n",
            "gender : 652745\n",
            "delta : 668790\n"
          ],
          "name": "stdout"
        }
      ]
    },
    {
      "cell_type": "code",
      "metadata": {
        "colab": {
          "base_uri": "https://localhost:8080/"
        },
        "id": "EdTFEA5j881J",
        "outputId": "bde1060a-7084-4f0f-d440-cad527f1c508"
      },
      "source": [
        "# observe if necessary to encode\n",
        "# difficult to rank so better one-hot\n",
        "services['consumption'].value_counts()"
      ],
      "execution_count": 11,
      "outputs": [
        {
          "output_type": "execute_result",
          "data": {
            "text/plain": [
              "0                                   399345\n",
              "underusing_voice_underusing_data    200703\n",
              "underusing_voice_right_data         195664\n",
              "overusing_voice_right_data          123809\n",
              "underusing_voice_overusing_data      88482\n",
              "right_voice_right_data               75951\n",
              "overusing_voice_overusing_data       59217\n",
              "right_voice_underusing_data          56564\n",
              "right_voice_overusing_data           22989\n",
              "overusing_voice_underusing_data       2276\n",
              "Name: consumption, dtype: int64"
            ]
          },
          "metadata": {
            "tags": []
          },
          "execution_count": 11
        }
      ]
    },
    {
      "cell_type": "code",
      "metadata": {
        "id": "9n79fUV9TUHx"
      },
      "source": [
        "# one-hot-encode consumption \n",
        "services = pd.concat([services, pd.get_dummies(services['consumption'], dtype=np.int64)], axis=1)\n",
        "services = services.drop(['consumption', '0'], axis=1)"
      ],
      "execution_count": 12,
      "outputs": []
    },
    {
      "cell_type": "code",
      "metadata": {
        "colab": {
          "base_uri": "https://localhost:8080/"
        },
        "id": "hyFBrCt_YgqD",
        "outputId": "c5022428-bab3-446f-c1a7-1ad02ad05108"
      },
      "source": [
        "services['sales20'].value_counts(ascending = True, bins = 10)\n",
        "# these outliers might harm models like Neural Networks where data must be scaled\n"
      ],
      "execution_count": 13,
      "outputs": [
        {
          "output_type": "execute_result",
          "data": {
            "text/plain": [
              "(1416.312, 1652.364]          0\n",
              "(1888.416, 2124.468]          0\n",
              "(944.208, 1180.26]            1\n",
              "(1652.364, 1888.416]          1\n",
              "(2124.468, 2360.52]           1\n",
              "(708.156, 944.208]            2\n",
              "(1180.26, 1416.312]           2\n",
              "(472.104, 708.156]           10\n",
              "(236.052, 472.104]           88\n",
              "(-2.362, 236.052]       1224895\n",
              "Name: sales20, dtype: int64"
            ]
          },
          "metadata": {
            "tags": []
          },
          "execution_count": 13
        }
      ]
    },
    {
      "cell_type": "code",
      "metadata": {
        "id": "4A6dI23peCAh"
      },
      "source": [
        "services = services.loc[services['sales20']<240] # 100 highest are removed"
      ],
      "execution_count": 14,
      "outputs": []
    },
    {
      "cell_type": "code",
      "metadata": {
        "colab": {
          "base_uri": "https://localhost:8080/",
          "height": 298
        },
        "id": "ipxmLPZeVbt-",
        "outputId": "276f306f-4a13-4fd8-fabe-98346679fd5d"
      },
      "source": [
        "sns.histplot(data=services.loc[services['sales20']<50] , x=\"sales20\") # most are under 50."
      ],
      "execution_count": 15,
      "outputs": [
        {
          "output_type": "execute_result",
          "data": {
            "text/plain": [
              "<matplotlib.axes._subplots.AxesSubplot at 0x7f77de72f510>"
            ]
          },
          "metadata": {
            "tags": []
          },
          "execution_count": 15
        },
        {
          "output_type": "display_data",
          "data": {
            "image/png": "[encoded data removed]",
            "text/plain": [
              "<Figure size 432x288 with 1 Axes>"
            ]
          },
          "metadata": {
            "tags": [],
            "needs_background": "light"
          }
        }
      ]
    },
    {
      "cell_type": "code",
      "metadata": {
        "id": "kQuwWIs-u4e7"
      },
      "source": [
        "# new column - count all services a customer has\n",
        "services['service_count'] = (services['tv_c']+services['bb_c']+services['iptv_c']\n",
        "                             +services['dth_c']+services['fttx_c']+services['adsl_c']\n",
        "                             +services['mobix_c']+services['vdsl_c']+services['voice_c']\n",
        "                             +services['data_c']+services['fixed_voice_c']+services['prepaid_c'])"
      ],
      "execution_count": 16,
      "outputs": []
    },
    {
      "cell_type": "code",
      "metadata": {
        "colab": {
          "base_uri": "https://localhost:8080/",
          "height": 238
        },
        "id": "INIrbiOQu4ht",
        "outputId": "8dabc422-7b04-4d33-ef27-47de6b2f88b9"
      },
      "source": [
        "services[['service_count', 'combination','customer_age', 'sales20', 'all_sales', 'sales_percentage']].corr() #services.corr()\n",
        "#services.corr()"
      ],
      "execution_count": 17,
      "outputs": [
        {
          "output_type": "execute_result",
          "data": {
            "text/html": [
              "<div>\n",
              "<style scoped>\n",
              "    .dataframe tbody tr th:only-of-type {\n",
              "        vertical-align: middle;\n",
              "    }\n",
              "\n",
              "    .dataframe tbody tr th {\n",
              "        vertical-align: top;\n",
              "    }\n",
              "\n",
              "    .dataframe thead th {\n",
              "        text-align: right;\n",
              "    }\n",
              "</style>\n",
              "<table border=\"1\" class=\"dataframe\">\n",
              "  <thead>\n",
              "    <tr style=\"text-align: right;\">\n",
              "      <th></th>\n",
              "      <th>service_count</th>\n",
              "      <th>combination</th>\n",
              "      <th>customer_age</th>\n",
              "      <th>sales20</th>\n",
              "      <th>all_sales</th>\n",
              "      <th>sales_percentage</th>\n",
              "    </tr>\n",
              "  </thead>\n",
              "  <tbody>\n",
              "    <tr>\n",
              "      <th>service_count</th>\n",
              "      <td>1.000000</td>\n",
              "      <td>0.389203</td>\n",
              "      <td>-0.023332</td>\n",
              "      <td>0.110755</td>\n",
              "      <td>0.584491</td>\n",
              "      <td>-0.269543</td>\n",
              "    </tr>\n",
              "    <tr>\n",
              "      <th>combination</th>\n",
              "      <td>0.389203</td>\n",
              "      <td>1.000000</td>\n",
              "      <td>0.067909</td>\n",
              "      <td>0.086030</td>\n",
              "      <td>0.324893</td>\n",
              "      <td>-0.146390</td>\n",
              "    </tr>\n",
              "    <tr>\n",
              "      <th>customer_age</th>\n",
              "      <td>-0.023332</td>\n",
              "      <td>0.067909</td>\n",
              "      <td>1.000000</td>\n",
              "      <td>-0.156709</td>\n",
              "      <td>-0.105546</td>\n",
              "      <td>-0.065846</td>\n",
              "    </tr>\n",
              "    <tr>\n",
              "      <th>sales20</th>\n",
              "      <td>0.110755</td>\n",
              "      <td>0.086030</td>\n",
              "      <td>-0.156709</td>\n",
              "      <td>1.000000</td>\n",
              "      <td>0.492826</td>\n",
              "      <td>0.531882</td>\n",
              "    </tr>\n",
              "    <tr>\n",
              "      <th>all_sales</th>\n",
              "      <td>0.584491</td>\n",
              "      <td>0.324893</td>\n",
              "      <td>-0.105546</td>\n",
              "      <td>0.492826</td>\n",
              "      <td>1.000000</td>\n",
              "      <td>-0.161637</td>\n",
              "    </tr>\n",
              "    <tr>\n",
              "      <th>sales_percentage</th>\n",
              "      <td>-0.269543</td>\n",
              "      <td>-0.146390</td>\n",
              "      <td>-0.065846</td>\n",
              "      <td>0.531882</td>\n",
              "      <td>-0.161637</td>\n",
              "      <td>1.000000</td>\n",
              "    </tr>\n",
              "  </tbody>\n",
              "</table>\n",
              "</div>"
            ],
            "text/plain": [
              "                  service_count  combination  ...  all_sales  sales_percentage\n",
              "service_count          1.000000     0.389203  ...   0.584491         -0.269543\n",
              "combination            0.389203     1.000000  ...   0.324893         -0.146390\n",
              "customer_age          -0.023332     0.067909  ...  -0.105546         -0.065846\n",
              "sales20                0.110755     0.086030  ...   0.492826          0.531882\n",
              "all_sales              0.584491     0.324893  ...   1.000000         -0.161637\n",
              "sales_percentage      -0.269543    -0.146390  ...  -0.161637          1.000000\n",
              "\n",
              "[6 rows x 6 columns]"
            ]
          },
          "metadata": {
            "tags": []
          },
          "execution_count": 17
        }
      ]
    },
    {
      "cell_type": "code",
      "metadata": {
        "colab": {
          "base_uri": "https://localhost:8080/",
          "height": 301
        },
        "id": "vhKYHL5cjBF2",
        "outputId": "9f74515f-6e55-4386-bf90-5040e792c9f9"
      },
      "source": [
        "services[['customer_age','sales20', 'all_sales', 'sales_percentage']].describe()"
      ],
      "execution_count": 18,
      "outputs": [
        {
          "output_type": "execute_result",
          "data": {
            "text/html": [
              "<div>\n",
              "<style scoped>\n",
              "    .dataframe tbody tr th:only-of-type {\n",
              "        vertical-align: middle;\n",
              "    }\n",
              "\n",
              "    .dataframe tbody tr th {\n",
              "        vertical-align: top;\n",
              "    }\n",
              "\n",
              "    .dataframe thead th {\n",
              "        text-align: right;\n",
              "    }\n",
              "</style>\n",
              "<table border=\"1\" class=\"dataframe\">\n",
              "  <thead>\n",
              "    <tr style=\"text-align: right;\">\n",
              "      <th></th>\n",
              "      <th>customer_age</th>\n",
              "      <th>sales20</th>\n",
              "      <th>all_sales</th>\n",
              "      <th>sales_percentage</th>\n",
              "    </tr>\n",
              "  </thead>\n",
              "  <tbody>\n",
              "    <tr>\n",
              "      <th>count</th>\n",
              "      <td>1.224901e+06</td>\n",
              "      <td>1.224901e+06</td>\n",
              "      <td>1.224901e+06</td>\n",
              "      <td>1.224901e+06</td>\n",
              "    </tr>\n",
              "    <tr>\n",
              "      <th>mean</th>\n",
              "      <td>4.982046e+01</td>\n",
              "      <td>1.488824e+01</td>\n",
              "      <td>3.657945e+01</td>\n",
              "      <td>4.578580e-01</td>\n",
              "    </tr>\n",
              "    <tr>\n",
              "      <th>std</th>\n",
              "      <td>1.437562e+01</td>\n",
              "      <td>1.184467e+01</td>\n",
              "      <td>3.176562e+01</td>\n",
              "      <td>3.622469e-01</td>\n",
              "    </tr>\n",
              "    <tr>\n",
              "      <th>min</th>\n",
              "      <td>1.400000e+01</td>\n",
              "      <td>0.000000e+00</td>\n",
              "      <td>0.000000e+00</td>\n",
              "      <td>0.000000e+00</td>\n",
              "    </tr>\n",
              "    <tr>\n",
              "      <th>25%</th>\n",
              "      <td>3.900000e+01</td>\n",
              "      <td>7.980000e+00</td>\n",
              "      <td>1.642000e+01</td>\n",
              "      <td>1.668727e-01</td>\n",
              "    </tr>\n",
              "    <tr>\n",
              "      <th>50%</th>\n",
              "      <td>4.900000e+01</td>\n",
              "      <td>1.480000e+01</td>\n",
              "      <td>3.002000e+01</td>\n",
              "      <td>3.915362e-01</td>\n",
              "    </tr>\n",
              "    <tr>\n",
              "      <th>75%</th>\n",
              "      <td>6.000000e+01</td>\n",
              "      <td>2.099000e+01</td>\n",
              "      <td>5.058000e+01</td>\n",
              "      <td>7.736626e-01</td>\n",
              "    </tr>\n",
              "    <tr>\n",
              "      <th>max</th>\n",
              "      <td>2.510000e+02</td>\n",
              "      <td>2.397300e+02</td>\n",
              "      <td>2.402100e+03</td>\n",
              "      <td>1.000000e+00</td>\n",
              "    </tr>\n",
              "  </tbody>\n",
              "</table>\n",
              "</div>"
            ],
            "text/plain": [
              "       customer_age       sales20     all_sales  sales_percentage\n",
              "count  1.224901e+06  1.224901e+06  1.224901e+06      1.224901e+06\n",
              "mean   4.982046e+01  1.488824e+01  3.657945e+01      4.578580e-01\n",
              "std    1.437562e+01  1.184467e+01  3.176562e+01      3.622469e-01\n",
              "min    1.400000e+01  0.000000e+00  0.000000e+00      0.000000e+00\n",
              "25%    3.900000e+01  7.980000e+00  1.642000e+01      1.668727e-01\n",
              "50%    4.900000e+01  1.480000e+01  3.002000e+01      3.915362e-01\n",
              "75%    6.000000e+01  2.099000e+01  5.058000e+01      7.736626e-01\n",
              "max    2.510000e+02  2.397300e+02  2.402100e+03      1.000000e+00"
            ]
          },
          "metadata": {
            "tags": []
          },
          "execution_count": 18
        }
      ]
    },
    {
      "cell_type": "code",
      "metadata": {
        "id": "MaZQ0_PKsAj6"
      },
      "source": [
        "# change all over 100 to 100 because if their old, it won't make much difference, but it might break model.\n",
        "services.loc[(services.customer_age >100),'customer_age']= 100"
      ],
      "execution_count": 19,
      "outputs": []
    },
    {
      "cell_type": "code",
      "metadata": {
        "colab": {
          "base_uri": "https://localhost:8080/",
          "height": 519
        },
        "id": "oRspTBktqec7",
        "outputId": "60016a09-2aeb-4b59-ab76-dbd885dc34dc"
      },
      "source": [
        "plt.figure(figsize=(16,8)) # much more male customers; normal distribution\n",
        "sns.histplot(x ='customer_age', data = services, hue='gender', bins = 100)"
      ],
      "execution_count": 20,
      "outputs": [
        {
          "output_type": "execute_result",
          "data": {
            "text/plain": [
              "<matplotlib.axes._subplots.AxesSubplot at 0x7f77df48eb10>"
            ]
          },
          "metadata": {
            "tags": []
          },
          "execution_count": 20
        },
        {
          "output_type": "display_data",
          "data": {
            "image/png": "[encoded data removed]",
            "text/plain": [
              "<Figure size 1152x576 with 1 Axes>"
            ]
          },
          "metadata": {
            "tags": [],
            "needs_background": "light"
          }
        }
      ]
    },
    {
      "cell_type": "code",
      "metadata": {
        "id": "TG9STfuagA6B"
      },
      "source": [
        "#sns.pairplot(services ,vars = ['sales20', 'customer_age', 'all_sales'], hue='gender')"
      ],
      "execution_count": 21,
      "outputs": []
    },
    {
      "cell_type": "markdown",
      "metadata": {
        "id": "mJ_rO7ZtNK7t"
      },
      "source": [
        "### Train-test split and data scaling"
      ]
    },
    {
      "cell_type": "code",
      "metadata": {
        "id": "mnOV-IGm9WsX"
      },
      "source": [
        "services = services.drop(['account_id','cust_id'], axis=1) #, 'sales21'\n",
        "\n",
        "# # safe personal information to match after prediction\n",
        "# train_acc_id = np.array(train.pop('account_id')) \n",
        "# train_cust_id = np.array(train.pop('cust_id')) \n",
        "# test_acc_id = np.array(test.pop('account_id')) \n",
        "# test_cust_id = np.array(test.pop('cust_id')) \n",
        "\n",
        "# # safe personal information to match after prediction\n",
        "# train_acc_id = np.array(train.pop('account_id')) \n",
        "# train_cust_id = np.array(train.pop('cust_id')) \n",
        "# test_acc_id = np.array(test.pop('account_id')) \n",
        "# test_cust_id = np.array(test.pop('cust_id')) \n",
        "\n",
        "\n",
        "# fix this later!!!!"
      ],
      "execution_count": 22,
      "outputs": []
    },
    {
      "cell_type": "code",
      "metadata": {
        "colab": {
          "base_uri": "https://localhost:8080/"
        },
        "id": "QZ5E_TwbGUbx",
        "outputId": "bc9b7cab-82d6-4a07-e2e4-a4bac9102156"
      },
      "source": [
        "services.columns"
      ],
      "execution_count": 23,
      "outputs": [
        {
          "output_type": "execute_result",
          "data": {
            "text/plain": [
              "Index(['customer_age', 'subscription_prepaid', 'm_voice', 'm_data', 'adsl',\n",
              "       'dth', 'fttx', 'iptv', 'mobix', 'vdsl', 'tv_c', 'bb_c', 'iptv_c',\n",
              "       'dth_c', 'fttx_c', 'adsl_c', 'mobix_c', 'vdsl_c', 'voice_c', 'data_c',\n",
              "       'fixed_voice_c', 'prepaid_c', 'sales20', 'combination', 'gender',\n",
              "       'delta', 'all_sales', 'sales_percentage',\n",
              "       'overusing_voice_overusing_data', 'overusing_voice_right_data',\n",
              "       'overusing_voice_underusing_data', 'right_voice_overusing_data',\n",
              "       'right_voice_right_data', 'right_voice_underusing_data',\n",
              "       'underusing_voice_overusing_data', 'underusing_voice_right_data',\n",
              "       'underusing_voice_underusing_data', 'service_count'],\n",
              "      dtype='object')"
            ]
          },
          "metadata": {
            "tags": []
          },
          "execution_count": 23
        }
      ]
    },
    {
      "cell_type": "code",
      "metadata": {
        "id": "4wysx9rKrV8P"
      },
      "source": [
        "from sklearn.model_selection import train_test_split\n",
        "from sklearn.preprocessing import MinMaxScaler\n",
        "from sklearn import metrics"
      ],
      "execution_count": 24,
      "outputs": []
    },
    {
      "cell_type": "code",
      "metadata": {
        "id": "lBvUVFBUF8Zj"
      },
      "source": [
        "# drop labels from df and put into array\n",
        "labels = np.array(services.pop('delta')) "
      ],
      "execution_count": 25,
      "outputs": []
    },
    {
      "cell_type": "code",
      "metadata": {
        "id": "duqi_o4LAEii"
      },
      "source": [
        "scaler = MinMaxScaler()\n",
        "services_scaled = scaler.fit_transform(services)"
      ],
      "execution_count": 26,
      "outputs": []
    },
    {
      "cell_type": "code",
      "metadata": {
        "id": "ZraUXeirm_Xk"
      },
      "source": [
        "# unscaled\n",
        "train, test, train_labels, test_labels = train_test_split(services, labels, test_size=0.25, random_state=50)"
      ],
      "execution_count": 27,
      "outputs": []
    },
    {
      "cell_type": "code",
      "metadata": {
        "id": "qmRQGdo-9BHe"
      },
      "source": [
        "# scaled\n",
        "train_scaled, test_scaled, train_labels_scaled, test_labels_scaled = train_test_split(services_scaled, labels, test_size=0.25, random_state=50)"
      ],
      "execution_count": 28,
      "outputs": []
    },
    {
      "cell_type": "markdown",
      "metadata": {
        "id": "-cwuIiN9uElG"
      },
      "source": [
        "### Recursive Feature Elimination"
      ]
    },
    {
      "cell_type": "code",
      "metadata": {
        "id": "Ygs_g4HBNfGb"
      },
      "source": [
        "# explore the number of selected features for RFE\n",
        "from sklearn.feature_selection import RFE\n",
        "from sklearn.feature_selection import RFECV\n",
        "from numpy import mean\n",
        "from numpy import std\n",
        "from sklearn.datasets import make_classification\n",
        "from sklearn.model_selection import cross_val_score\n",
        "from sklearn.model_selection import RepeatedStratifiedKFold\n",
        "from sklearn.feature_selection import RFE\n",
        "from sklearn.tree import DecisionTreeClassifier\n",
        "from sklearn.ensemble import RandomForestClassifier\n",
        "from sklearn.linear_model import LogisticRegression\n",
        "from sklearn.pipeline import Pipeline\n",
        "from matplotlib import pyplot"
      ],
      "execution_count": 29,
      "outputs": []
    },
    {
      "cell_type": "code",
      "metadata": {
        "colab": {
          "base_uri": "https://localhost:8080/"
        },
        "id": "Gz8Gx4JaLk_W",
        "outputId": "29c33f8b-0ab7-4b7c-840e-2053fa686bae"
      },
      "source": [
        "# # get a list of models to evaluate\n",
        "# def get_models():\n",
        "# \tmodels = dict()\n",
        "# \tfor i in range(4, 25):\n",
        "# \t\trfe = RFE(estimator=DecisionTreeClassifier(), n_features_to_select=i)\n",
        "# \t\tmodel = DecisionTreeClassifier()\n",
        "# \t\tmodels[str(i)] = Pipeline(steps=[('s',rfe),('m',model)])\n",
        "#   return models\n",
        " \n",
        "# # evaluate a give model using cross-validation\n",
        "# def evaluate_model(model, X, y):\n",
        "# \tcv = RepeatedStratifiedKFold(n_splits=10, n_repeats=3, random_state=1)\n",
        "# \tscores = cross_val_score(model, X, y, scoring='accuracy', cv=cv, n_jobs=-1, error_score='raise')\n",
        "#   return scores\n",
        "\n",
        "  # get a list of models to evaluate\n",
        "def get_models():\n",
        "\tmodels = dict()\n",
        "\tfor i in range(12, 39):\n",
        "\t\trfe = RFE(estimator=LogisticRegression(max_iter=2000), n_features_to_select=i)\n",
        "\t\tmodel = LogisticRegression(max_iter=2000)\n",
        "\t\tmodels[str(i)] = Pipeline(steps=[('s',rfe),('m',model)])\n",
        "\treturn models\n",
        "\n",
        "\n",
        " \n",
        "# evaluate a give model using cross-validation\n",
        "def evaluate_model(model, X, y):\n",
        "  clf = model.fit(X, y)\n",
        "  y_pred = clf.predict(test_scaled)\n",
        "  scores = metrics.accuracy_score(test_labels, y_pred)\n",
        "  return scores\n",
        "\n",
        "\n",
        "# define dataset\n",
        "X = train_scaled[:200000]\n",
        "y = train_labels[:200000]\n",
        "# get the models to evaluate\n",
        "models = get_models()\n",
        "# evaluate the models and store results\n",
        "results, names = list(), list()\n",
        "for name, model in models.items():\n",
        "\tscores = evaluate_model(model, X, y)\n",
        "\tresults.append(scores)\n",
        "\tnames.append(name)\n",
        "\tprint('>%s %.3f (%.3f)' % (name, scores, scores))\n",
        "# plot model performance for comparison\n",
        "# pyplot.boxplot(results, labels=names, showmeans=True)\n",
        "# pyplot.show()"
      ],
      "execution_count": null,
      "outputs": [
        {
          "output_type": "stream",
          "text": [
            ">12 0.777 (0.777)\n",
            ">13 0.778 (0.778)\n",
            ">14 0.778 (0.778)\n"
          ],
          "name": "stdout"
        }
      ]
    },
    {
      "cell_type": "code",
      "metadata": {
        "id": "S084f5szueYH"
      },
      "source": [
        "#clf = DecisionTreeClassifier()\n",
        "# clf=LogisticRegression(max_iter=2000)\n",
        "\n",
        "rfe = RFECV(estimator=RandomForestClassifier())\n",
        "#rfe = RFE(estimator=clf,  step=1,n_features_to_select=10) # n_features_to_select=20,\n",
        "rfe.fit(train_scaled, train_labels_scaled)"
      ],
      "execution_count": null,
      "outputs": []
    },
    {
      "cell_type": "code",
      "metadata": {
        "id": "-q8WeSn28fE1"
      },
      "source": [
        "for i in range(train.shape[1]):\n",
        "  print(f'Col {i} : \" {train.columns[i]} \", selected: {rfe.support_[i]}, Rank: {rfe.ranking_[i]} ')"
      ],
      "execution_count": null,
      "outputs": []
    },
    {
      "cell_type": "markdown",
      "metadata": {
        "id": "3u3Lt7nyPVUz"
      },
      "source": [
        "### Decision Tree"
      ]
    },
    {
      "cell_type": "code",
      "metadata": {
        "id": "6765ot609fbM"
      },
      "source": [
        "train"
      ],
      "execution_count": null,
      "outputs": []
    },
    {
      "cell_type": "code",
      "metadata": {
        "id": "kMpiei3aiqvU"
      },
      "source": [
        "# IMPORT\n",
        "from sklearn.tree import DecisionTreeClassifier\n",
        "from sklearn.tree import plot_tree"
      ],
      "execution_count": null,
      "outputs": []
    },
    {
      "cell_type": "code",
      "metadata": {
        "id": "qohtULQOCDrp"
      },
      "source": [
        "# Create Decision Tree classifer object\n",
        "clf = DecisionTreeClassifier(max_depth=11, criterion = 'entropy') #(criterion = 'entropy', max_depth=16) \n",
        "\n",
        "# Train Decision Tree Classifer\n",
        "clf = clf.fit(train, train_labels)"
      ],
      "execution_count": null,
      "outputs": []
    },
    {
      "cell_type": "code",
      "metadata": {
        "id": "O-qFgWWZQ1uD"
      },
      "source": [
        "#Predict the response for test dataset\n",
        "y_pred = clf.predict(test)\n",
        "y_pred_prob = clf.predict_proba(test)"
      ],
      "execution_count": null,
      "outputs": []
    },
    {
      "cell_type": "markdown",
      "metadata": {
        "id": "cP5y57wJB49t"
      },
      "source": [
        "#### Validation"
      ]
    },
    {
      "cell_type": "markdown",
      "metadata": {
        "id": "Pk4IfU0xT7Ll"
      },
      "source": [
        "accuracy, n-fold cross-validation, \n",
        "\n",
        "grid- search optimization ? https://stackoverflow.com/questions/63046906/how-to-best-determine-the-accuracy-of-a-model-repeated-train-test-splits-or-cv"
      ]
    },
    {
      "cell_type": "code",
      "metadata": {
        "id": "vOFbpFbE_wxy"
      },
      "source": [
        "y_pred_train = clf.predict(train)\n",
        "accuracy = metrics.accuracy_score(train_labels, y_pred_train)\n",
        "print('Train Accuracy: %f' % accuracy)"
      ],
      "execution_count": null,
      "outputs": []
    },
    {
      "cell_type": "code",
      "metadata": {
        "id": "k_IrRGeG9BVv"
      },
      "source": [
        "# accuracy: (tp + tn) / (p + n)\n",
        "accuracy = metrics.accuracy_score(test_labels, y_pred)\n",
        "print('Accuracy: %f' % accuracy)\n",
        "# precision tp / (tp + fp)\n",
        "precision = metrics.precision_score(test_labels, y_pred)\n",
        "print('Precision: %f' % precision)\n",
        "# recall: tp / (tp + fn)\n",
        "recall = metrics.recall_score(test_labels, y_pred)\n",
        "print('Recall: %f' % recall)\n",
        "# f1: 2 tp / (2 tp + fp + fn)\n",
        "f1 = metrics.f1_score(test_labels, y_pred)\n",
        "print('F1 score: %f' % f1)\n",
        "\n",
        "# ROC AUC\n",
        "auc = metrics.roc_auc_score(test_labels, y_pred)\n",
        "print('ROC AUC: %f' % auc)\n",
        "# confusion matrix\n",
        "matrix = confusion_matrix(test_labels, y_pred)\n",
        "print(matrix)"
      ],
      "execution_count": null,
      "outputs": []
    },
    {
      "cell_type": "code",
      "metadata": {
        "id": "6YV6oexkScpx"
      },
      "source": [
        ""
      ],
      "execution_count": null,
      "outputs": []
    },
    {
      "cell_type": "code",
      "metadata": {
        "id": "whToRJbVbB2R"
      },
      "source": [
        "# plt.figure(figsize=(25,10))\n",
        "# plot_tree(clf, filled=True,  rounded=True, fontsize=9, feature_names=list(train.columns), class_names= True);"
      ],
      "execution_count": null,
      "outputs": []
    },
    {
      "cell_type": "code",
      "metadata": {
        "id": "zsPbTHc1EGDW"
      },
      "source": [
        ""
      ],
      "execution_count": null,
      "outputs": []
    },
    {
      "cell_type": "markdown",
      "metadata": {
        "id": "UBuLANSlTfOm"
      },
      "source": [
        "### XGBoost"
      ]
    },
    {
      "cell_type": "code",
      "metadata": {
        "id": "N2eDKzsvTi2h"
      },
      "source": [
        "from numpy import loadtxt\n",
        "from xgboost import XGBClassifier\n",
        "from sklearn.model_selection import train_test_split\n",
        "from sklearn.metrics import accuracy_score"
      ],
      "execution_count": null,
      "outputs": []
    },
    {
      "cell_type": "code",
      "metadata": {
        "id": "guoei2PvTwtC"
      },
      "source": [
        "# fit model no training data\n",
        "XGB_model = XGBClassifier()\n",
        "XGB_model.fit(train, train_labels)"
      ],
      "execution_count": null,
      "outputs": []
    },
    {
      "cell_type": "code",
      "metadata": {
        "id": "YC9nMqODT88n"
      },
      "source": [
        "# make predictions for test data\n",
        "y_pred = XGB_model.predict(test)\n",
        "predictions = [round(value) for value in y_pred]"
      ],
      "execution_count": null,
      "outputs": []
    },
    {
      "cell_type": "code",
      "metadata": {
        "id": "U-zHYzRhRku-"
      },
      "source": [
        "# accuracy: (tp + tn) / (p + n)\n",
        "accuracy = metrics.accuracy_score(test_labels, y_pred)\n",
        "print('Accuracy: %f' % accuracy)\n",
        "# precision tp / (tp + fp)\n",
        "precision = metrics.precision_score(test_labels, y_pred)\n",
        "print('Precision: %f' % precision)\n",
        "# recall: tp / (tp + fn)\n",
        "recall = metrics.recall_score(test_labels, y_pred)\n",
        "print('Recall: %f' % recall)\n",
        "# f1: 2 tp / (2 tp + fp + fn)\n",
        "f1 = metrics.f1_score(test_labels, y_pred)\n",
        "print('F1 score: %f' % f1)\n",
        "\n",
        "# ROC AUC\n",
        "auc = metrics.roc_auc_score(test_labels, y_pred)\n",
        "print('ROC AUC: %f' % auc)\n",
        "# confusion matrix\n",
        "matrix = confusion_matrix(test_labels, y_pred)\n",
        "print(matrix)"
      ],
      "execution_count": null,
      "outputs": []
    },
    {
      "cell_type": "markdown",
      "metadata": {
        "id": "LXo1IEXBPbNh"
      },
      "source": [
        "### Random Forest"
      ]
    },
    {
      "cell_type": "code",
      "metadata": {
        "id": "m0u0anPpQgMn"
      },
      "source": [
        "from sklearn.ensemble import RandomForestClassifier\n",
        "\n",
        "model = RandomForestClassifier( n_estimators = 50, max_features = 5, max_depth= 12 ) # more depth, "
      ],
      "execution_count": 68,
      "outputs": []
    },
    {
      "cell_type": "code",
      "metadata": {
        "id": "Sj-ry_lmQbKH"
      },
      "source": [
        "model = model.fit(train, train_labels)"
      ],
      "execution_count": 69,
      "outputs": []
    },
    {
      "cell_type": "code",
      "metadata": {
        "id": "DhQ4gDxYCWh-"
      },
      "source": [
        "#Predict the response for test dataset\n",
        "y_pred = model.predict(test)\n",
        "\n",
        "y_pred_prob = model.predict_proba(test)"
      ],
      "execution_count": 70,
      "outputs": []
    },
    {
      "cell_type": "code",
      "metadata": {
        "colab": {
          "base_uri": "https://localhost:8080/"
        },
        "id": "mPUMJCJxVdKK",
        "outputId": "84b534e7-4241-42ba-d211-539c4696eb44"
      },
      "source": [
        "y_pred_train = model.predict(train)\n",
        "accuracy = metrics.accuracy_score(train_labels, y_pred_train)\n",
        "print('Train Accuracy: %f' % accuracy)"
      ],
      "execution_count": 71,
      "outputs": [
        {
          "output_type": "stream",
          "text": [
            "Train Accuracy: 0.793773\n"
          ],
          "name": "stdout"
        }
      ]
    },
    {
      "cell_type": "code",
      "metadata": {
        "colab": {
          "base_uri": "https://localhost:8080/"
        },
        "id": "FDuj_ju6ZLG4",
        "outputId": "1394d01d-a463-4479-ee48-3a4947c88055"
      },
      "source": [
        "# accuracy: (tp + tn) / (p + n)\n",
        "accuracy = metrics.accuracy_score(test_labels, y_pred)\n",
        "print('Accuracy: %f' % accuracy)\n",
        "# precision tp / (tp + fp)\n",
        "precision = metrics.precision_score(test_labels, y_pred)\n",
        "print('Precision: %f' % precision)\n",
        "# recall: tp / (tp + fn)\n",
        "recall = metrics.recall_score(test_labels, y_pred)\n",
        "print('Recall: %f' % recall)\n",
        "# f1: 2 tp / (2 tp + fp + fn)\n",
        "f1 = metrics.f1_score(test_labels, y_pred)\n",
        "print('F1 score: %f' % f1)\n",
        "\n",
        "# ROC AUC\n",
        "auc = metrics.roc_auc_score(test_labels, y_pred)\n",
        "print('ROC AUC: %f' % auc)\n",
        "# confusion matrix\n",
        "matrix = confusion_matrix(test_labels, y_pred)\n",
        "print(matrix)"
      ],
      "execution_count": 72,
      "outputs": [
        {
          "output_type": "stream",
          "text": [
            "Accuracy: 0.791687\n",
            "Precision: 0.748264\n",
            "Recall: 0.931802\n",
            "F1 score: 0.830008\n",
            "ROC AUC: 0.777565\n",
            "[[ 86701  52393]\n",
            " [ 11398 155734]]\n"
          ],
          "name": "stdout"
        }
      ]
    },
    {
      "cell_type": "code",
      "metadata": {
        "id": "Jw0ASqg0S-uu"
      },
      "source": [
        " feature_list = list(train.columns)\n",
        "importances = list(model.feature_importances_)\n",
        "feature_importances = [(feature, round(importance, 2)) for feature, importance in zip(feature_list, importances)]\n",
        "feature_importances = sorted(feature_importances, key = lambda x: x[1], reverse = True)\n",
        "\n",
        "[print('{:} Importance: {}'.format(*pair)) for pair in feature_importances]"
      ],
      "execution_count": null,
      "outputs": []
    },
    {
      "cell_type": "code",
      "metadata": {
        "id": "vYBqhAjBKF9x"
      },
      "source": [
        "trees = {'Number_of_trees': [25,50,100,200, 300, 25,50,100,200,300,50,50,50,50,50,50,50,50],\n",
        "        'Values': [0.966447,0.968584,0.968951,0.968969,0.968969, 0.770552,\t0.772802,\t0.7737,\t0.774967,\t0.77534,  0.793773,0.791687,0.79595, 0.793897,0.797176, 0.794743,0.79739, 0.794825],\n",
        "        'Condition': ['Train', 'Train', 'Train', 'Train', 'Train','Test', 'Test', 'Test', 'Test', 'Test', 'Train', 'Test', 'Train', 'Test','Train', 'Test','Train', 'Test' ],\n",
        "        'max_features': [0,0,0,0,0,0,0,0,0,0, 5,5,10,10,15,15,20,20 ]}\n",
        "\n",
        "tree_number_boost = pd.DataFrame(trees, columns = ['Number_of_trees', 'Values', 'Condition', 'max_features'])"
      ],
      "execution_count": 95,
      "outputs": []
    },
    {
      "cell_type": "code",
      "metadata": {
        "colab": {
          "base_uri": "https://localhost:8080/",
          "height": 614
        },
        "id": "p14_R7c_KGAp",
        "outputId": "c4c4a26a-a356-47b2-8515-da593fb2991a"
      },
      "source": [
        "tree_number_boost"
      ],
      "execution_count": 96,
      "outputs": [
        {
          "output_type": "execute_result",
          "data": {
            "text/html": [
              "<div>\n",
              "<style scoped>\n",
              "    .dataframe tbody tr th:only-of-type {\n",
              "        vertical-align: middle;\n",
              "    }\n",
              "\n",
              "    .dataframe tbody tr th {\n",
              "        vertical-align: top;\n",
              "    }\n",
              "\n",
              "    .dataframe thead th {\n",
              "        text-align: right;\n",
              "    }\n",
              "</style>\n",
              "<table border=\"1\" class=\"dataframe\">\n",
              "  <thead>\n",
              "    <tr style=\"text-align: right;\">\n",
              "      <th></th>\n",
              "      <th>Number_of_trees</th>\n",
              "      <th>Values</th>\n",
              "      <th>Condition</th>\n",
              "      <th>max_features</th>\n",
              "    </tr>\n",
              "  </thead>\n",
              "  <tbody>\n",
              "    <tr>\n",
              "      <th>0</th>\n",
              "      <td>25</td>\n",
              "      <td>0.966447</td>\n",
              "      <td>Train</td>\n",
              "      <td>0</td>\n",
              "    </tr>\n",
              "    <tr>\n",
              "      <th>1</th>\n",
              "      <td>50</td>\n",
              "      <td>0.968584</td>\n",
              "      <td>Train</td>\n",
              "      <td>0</td>\n",
              "    </tr>\n",
              "    <tr>\n",
              "      <th>2</th>\n",
              "      <td>100</td>\n",
              "      <td>0.968951</td>\n",
              "      <td>Train</td>\n",
              "      <td>0</td>\n",
              "    </tr>\n",
              "    <tr>\n",
              "      <th>3</th>\n",
              "      <td>200</td>\n",
              "      <td>0.968969</td>\n",
              "      <td>Train</td>\n",
              "      <td>0</td>\n",
              "    </tr>\n",
              "    <tr>\n",
              "      <th>4</th>\n",
              "      <td>300</td>\n",
              "      <td>0.968969</td>\n",
              "      <td>Train</td>\n",
              "      <td>0</td>\n",
              "    </tr>\n",
              "    <tr>\n",
              "      <th>5</th>\n",
              "      <td>25</td>\n",
              "      <td>0.770552</td>\n",
              "      <td>Test</td>\n",
              "      <td>0</td>\n",
              "    </tr>\n",
              "    <tr>\n",
              "      <th>6</th>\n",
              "      <td>50</td>\n",
              "      <td>0.772802</td>\n",
              "      <td>Test</td>\n",
              "      <td>0</td>\n",
              "    </tr>\n",
              "    <tr>\n",
              "      <th>7</th>\n",
              "      <td>100</td>\n",
              "      <td>0.773700</td>\n",
              "      <td>Test</td>\n",
              "      <td>0</td>\n",
              "    </tr>\n",
              "    <tr>\n",
              "      <th>8</th>\n",
              "      <td>200</td>\n",
              "      <td>0.774967</td>\n",
              "      <td>Test</td>\n",
              "      <td>0</td>\n",
              "    </tr>\n",
              "    <tr>\n",
              "      <th>9</th>\n",
              "      <td>300</td>\n",
              "      <td>0.775340</td>\n",
              "      <td>Test</td>\n",
              "      <td>0</td>\n",
              "    </tr>\n",
              "    <tr>\n",
              "      <th>10</th>\n",
              "      <td>50</td>\n",
              "      <td>0.793773</td>\n",
              "      <td>Train</td>\n",
              "      <td>5</td>\n",
              "    </tr>\n",
              "    <tr>\n",
              "      <th>11</th>\n",
              "      <td>50</td>\n",
              "      <td>0.791687</td>\n",
              "      <td>Test</td>\n",
              "      <td>5</td>\n",
              "    </tr>\n",
              "    <tr>\n",
              "      <th>12</th>\n",
              "      <td>50</td>\n",
              "      <td>0.795950</td>\n",
              "      <td>Train</td>\n",
              "      <td>10</td>\n",
              "    </tr>\n",
              "    <tr>\n",
              "      <th>13</th>\n",
              "      <td>50</td>\n",
              "      <td>0.793897</td>\n",
              "      <td>Test</td>\n",
              "      <td>10</td>\n",
              "    </tr>\n",
              "    <tr>\n",
              "      <th>14</th>\n",
              "      <td>50</td>\n",
              "      <td>0.797176</td>\n",
              "      <td>Train</td>\n",
              "      <td>15</td>\n",
              "    </tr>\n",
              "    <tr>\n",
              "      <th>15</th>\n",
              "      <td>50</td>\n",
              "      <td>0.794743</td>\n",
              "      <td>Test</td>\n",
              "      <td>15</td>\n",
              "    </tr>\n",
              "    <tr>\n",
              "      <th>16</th>\n",
              "      <td>50</td>\n",
              "      <td>0.797390</td>\n",
              "      <td>Train</td>\n",
              "      <td>20</td>\n",
              "    </tr>\n",
              "    <tr>\n",
              "      <th>17</th>\n",
              "      <td>50</td>\n",
              "      <td>0.794825</td>\n",
              "      <td>Test</td>\n",
              "      <td>20</td>\n",
              "    </tr>\n",
              "  </tbody>\n",
              "</table>\n",
              "</div>"
            ],
            "text/plain": [
              "    Number_of_trees    Values Condition  max_features\n",
              "0                25  0.966447     Train             0\n",
              "1                50  0.968584     Train             0\n",
              "2               100  0.968951     Train             0\n",
              "3               200  0.968969     Train             0\n",
              "4               300  0.968969     Train             0\n",
              "5                25  0.770552      Test             0\n",
              "6                50  0.772802      Test             0\n",
              "7               100  0.773700      Test             0\n",
              "8               200  0.774967      Test             0\n",
              "9               300  0.775340      Test             0\n",
              "10               50  0.793773     Train             5\n",
              "11               50  0.791687      Test             5\n",
              "12               50  0.795950     Train            10\n",
              "13               50  0.793897      Test            10\n",
              "14               50  0.797176     Train            15\n",
              "15               50  0.794743      Test            15\n",
              "16               50  0.797390     Train            20\n",
              "17               50  0.794825      Test            20"
            ]
          },
          "metadata": {
            "tags": []
          },
          "execution_count": 96
        }
      ]
    },
    {
      "cell_type": "code",
      "metadata": {
        "colab": {
          "base_uri": "https://localhost:8080/",
          "height": 280
        },
        "id": "TxfRqhIBL2Uh",
        "outputId": "be1a5e97-766f-41f5-b14d-721f3b16436d"
      },
      "source": [
        "g1 = sns.lineplot(data=tree_number_boost[:10],x=\"Number_of_trees\", y='Values', hue = 'Condition', marker=\"o\")\n",
        "g1.set(ylim=(0.765, 0.98));"
      ],
      "execution_count": 113,
      "outputs": [
        {
          "output_type": "display_data",
          "data": {
            "image/png": "[encoded data removed]",
            "text/plain": [
              "<Figure size 432x288 with 1 Axes>"
            ]
          },
          "metadata": {
            "tags": [],
            "needs_background": "light"
          }
        }
      ]
    },
    {
      "cell_type": "code",
      "metadata": {
        "id": "IYn9VQ0saSSG"
      },
      "source": [
        "# after this goes how much max depth improves and that number of trees dont do much even after a good depth. Depth not tested becaus its done in tree? or is same as for tree after testoing"
      ],
      "execution_count": null,
      "outputs": []
    },
    {
      "cell_type": "code",
      "metadata": {
        "colab": {
          "base_uri": "https://localhost:8080/",
          "height": 280
        },
        "id": "yfD-9FuSWpz-",
        "outputId": "42802aa6-b07f-46ff-ffbb-59bff720576b"
      },
      "source": [
        "g2 = sns.lineplot(data=tree_number_boost[10:] ,x=\"max_features\", y='Values', hue = 'Condition', marker=\"o\" )\n",
        "g2.set(ylim=(0.765, 0.98));"
      ],
      "execution_count": 114,
      "outputs": [
        {
          "output_type": "display_data",
          "data": {
            "image/png": "[encoded data removed]",
            "text/plain": [
              "<Figure size 432x288 with 1 Axes>"
            ]
          },
          "metadata": {
            "tags": [],
            "needs_background": "light"
          }
        }
      ]
    },
    {
      "cell_type": "code",
      "metadata": {
        "id": "MH8mMPxyanK0"
      },
      "source": [
        ""
      ],
      "execution_count": null,
      "outputs": []
    },
    {
      "cell_type": "markdown",
      "metadata": {
        "id": "qwspO3TuPh6b"
      },
      "source": [
        "### Support Vector Machine"
      ]
    },
    {
      "cell_type": "code",
      "metadata": {
        "id": "j8475cgseHQD"
      },
      "source": [
        "train_PCA = train[['sales20',\n",
        " 'customer_age',\n",
        " 'all_sales',\n",
        " 'sales_percentage'\n",
        "#  'subscription_postpaid',\n",
        "#  'voice_c',\n",
        "#  'subscription_prepaid',\n",
        "#  'consumption',\n",
        "#  'm_voice',\n",
        "#  'adsl',\n",
        "#  'prepaid_c',\n",
        "#  'male',\n",
        "#  'female'\n",
        " ]]"
      ],
      "execution_count": null,
      "outputs": []
    },
    {
      "cell_type": "code",
      "metadata": {
        "id": "7bIhAVEfiVOz"
      },
      "source": [
        "train_PCA = train_PCA.iloc[:10000]"
      ],
      "execution_count": null,
      "outputs": []
    },
    {
      "cell_type": "code",
      "metadata": {
        "id": "UFGXAtZ7_1Vt"
      },
      "source": [
        "from sklearn.preprocessing import MinMaxScaler\n",
        "# define min max scaler\n",
        "scaler = MinMaxScaler()\n",
        "# transform data\n",
        "train_PCA = scaler.fit_transform(train_PCA)"
      ],
      "execution_count": null,
      "outputs": []
    },
    {
      "cell_type": "code",
      "metadata": {
        "id": "KPR_d6m0PoAR"
      },
      "source": [
        "from sklearn.svm import SVC # \"Support vector classifier\"\n",
        "model = SVC()\n",
        "#model1 = SVC(decision_function_shape='ovo')"
      ],
      "execution_count": null,
      "outputs": []
    },
    {
      "cell_type": "code",
      "metadata": {
        "id": "gcY7ouctIk7D"
      },
      "source": [
        "train_labels = train_labels[:10000]"
      ],
      "execution_count": null,
      "outputs": []
    },
    {
      "cell_type": "code",
      "metadata": {
        "colab": {
          "base_uri": "https://localhost:8080/"
        },
        "id": "lFlgOIMM8x3x",
        "outputId": "b2c28ae1-ce31-4e76-8641-ddabb749c1b6"
      },
      "source": [
        "model.fit(train_PCA, train_labels)"
      ],
      "execution_count": null,
      "outputs": [
        {
          "output_type": "execute_result",
          "data": {
            "text/plain": [
              "SVC(C=1.0, break_ties=False, cache_size=200, class_weight=None, coef0=0.0,\n",
              "    decision_function_shape='ovr', degree=3, gamma='scale', kernel='rbf',\n",
              "    max_iter=-1, probability=False, random_state=None, shrinking=True,\n",
              "    tol=0.001, verbose=False)"
            ]
          },
          "metadata": {
            "tags": []
          },
          "execution_count": 36
        }
      ]
    },
    {
      "cell_type": "code",
      "metadata": {
        "id": "Kft5-7fxJpVr"
      },
      "source": [
        "test = test[['sales20',\n",
        " 'customer_age',\n",
        " 'all_sales',\n",
        " 'sales_percentage']]"
      ],
      "execution_count": null,
      "outputs": []
    },
    {
      "cell_type": "code",
      "metadata": {
        "id": "nrViHmJFJOON"
      },
      "source": [
        "\n",
        "test = scaler.fit_transform(test)"
      ],
      "execution_count": null,
      "outputs": []
    },
    {
      "cell_type": "code",
      "metadata": {
        "id": "DQS_KQZcJX_x"
      },
      "source": [
        "#Predict the response for test dataset\n",
        "y_pred = model.predict(test)\n"
      ],
      "execution_count": null,
      "outputs": []
    },
    {
      "cell_type": "code",
      "metadata": {
        "colab": {
          "base_uri": "https://localhost:8080/"
        },
        "id": "TTYNcw4iOBn7",
        "outputId": "010d60da-88a5-42b6-90a6-f44698291406"
      },
      "source": [
        "# Model Accuracy, how often is the classifier correct?\n",
        "print(\"Accuracy:\",metrics.accuracy_score(test_labels, y_pred))"
      ],
      "execution_count": null,
      "outputs": [
        {
          "output_type": "stream",
          "text": [
            "Accuracy: 0.7261442176870748\n"
          ],
          "name": "stdout"
        }
      ]
    },
    {
      "cell_type": "markdown",
      "metadata": {
        "id": "LVqTX81wPoMW"
      },
      "source": [
        "### Logistic Regression"
      ]
    },
    {
      "cell_type": "code",
      "metadata": {
        "id": "jLTVDRj3RL5e"
      },
      "source": [
        "from sklearn.datasets import make_classification\n",
        "from sklearn.linear_model import LogisticRegression\n",
        "from matplotlib import pyplot"
      ],
      "execution_count": null,
      "outputs": []
    },
    {
      "cell_type": "code",
      "metadata": {
        "id": "YSHXiplU_pO-"
      },
      "source": [
        "# define the model\n",
        "model = LogisticRegression(max_iter=1000)\n",
        "# fit the model\n",
        "model.fit(train_scaled, train_labels_scaled);"
      ],
      "execution_count": null,
      "outputs": []
    },
    {
      "cell_type": "code",
      "metadata": {
        "id": "8LBLqNENTEIi"
      },
      "source": [
        "y_pred = model.predict(test_scaled)\n",
        "#y_pred_prob = model.predict_proba(test_scaled)"
      ],
      "execution_count": null,
      "outputs": []
    },
    {
      "cell_type": "markdown",
      "metadata": {
        "id": "wb-GaGK6TTA1"
      },
      "source": [
        "#### Validation"
      ]
    },
    {
      "cell_type": "code",
      "metadata": {
        "colab": {
          "base_uri": "https://localhost:8080/"
        },
        "id": "0nBoWbueTpFH",
        "outputId": "a06495c6-5d6e-4f48-8cef-f98197a1e2da"
      },
      "source": [
        "# accuracy: (tp + tn) / (p + n)\n",
        "accuracy = metrics.accuracy_score(test_labels_scaled, y_pred)\n",
        "print('Accuracy: %f' % accuracy)\n",
        "# precision tp / (tp + fp)\n",
        "precision = metrics.precision_score(test_labels_scaled, y_pred)\n",
        "print('Precision: %f' % precision)\n",
        "# recall: tp / (tp + fn)\n",
        "recall = metrics.recall_score(test_labels_scaled, y_pred)\n",
        "print('Recall: %f' % recall)\n",
        "# f1: 2 tp / (2 tp + fp + fn)\n",
        "f1 = metrics.f1_score(test_labels_scaled, y_pred)\n",
        "print('F1 score: %f' % f1)\n",
        "\n",
        "# ROC AUC\n",
        "auc = metrics.roc_auc_score(test_labels_scaled, y_pred)\n",
        "print('ROC AUC: %f' % auc)\n",
        "# confusion matrix\n",
        "matrix = confusion_matrix(test_labels_scaled, y_pred)\n",
        "print(matrix)"
      ],
      "execution_count": null,
      "outputs": [
        {
          "output_type": "stream",
          "text": [
            "Accuracy: 0.778987\n",
            "Precision: 0.738117\n",
            "Recall: 0.922271\n",
            "F1 score: 0.819982\n",
            "ROC AUC: 0.764545\n",
            "[[ 84405  54689]\n",
            " [ 12991 154141]]\n"
          ],
          "name": "stdout"
        }
      ]
    },
    {
      "cell_type": "markdown",
      "metadata": {
        "id": "8SUor_qPPror"
      },
      "source": [
        "### Neural Network"
      ]
    },
    {
      "cell_type": "code",
      "metadata": {
        "id": "yxvWRaQVs0Ou"
      },
      "source": [
        "from keras.models import Sequential\n",
        "from keras.layers import Dense, Activation, Dropout\n",
        "from tensorflow.keras.optimizers import Adam"
      ],
      "execution_count": null,
      "outputs": []
    },
    {
      "cell_type": "code",
      "metadata": {
        "colab": {
          "base_uri": "https://localhost:8080/"
        },
        "id": "MwWMVv7ss2oW",
        "outputId": "a4c8d2c8-e7c6-4eae-fff1-618ce79c34f3"
      },
      "source": [
        "# #Simple network 1\n",
        "# #Appropriate architecture for the challenge\n",
        "\n",
        "model = Sequential()\n",
        "model.add(Dense(16, input_dim=39, activation='relu')) \n",
        "model.add(Dropout(0.4))\n",
        "model.add(Dense(1)) \n",
        "model.add(Activation('sigmoid')) \n",
        "model.compile(loss='binary_crossentropy',\n",
        "              optimizer='adam',             #also try adam\n",
        "              metrics=['accuracy'])\n",
        "\n",
        "#model.compile(loss='mean_squared_error', optimizer='adam')\n",
        "print(model.summary())"
      ],
      "execution_count": null,
      "outputs": [
        {
          "output_type": "stream",
          "text": [
            "Model: \"sequential_3\"\n",
            "_________________________________________________________________\n",
            "Layer (type)                 Output Shape              Param #   \n",
            "=================================================================\n",
            "dense_11 (Dense)             (None, 16)                640       \n",
            "_________________________________________________________________\n",
            "dropout_8 (Dropout)          (None, 16)                0         \n",
            "_________________________________________________________________\n",
            "dense_12 (Dense)             (None, 1)                 17        \n",
            "_________________________________________________________________\n",
            "activation_8 (Activation)    (None, 1)                 0         \n",
            "=================================================================\n",
            "Total params: 657\n",
            "Trainable params: 657\n",
            "Non-trainable params: 0\n",
            "_________________________________________________________________\n",
            "None\n"
          ],
          "name": "stdout"
        }
      ]
    },
    {
      "cell_type": "code",
      "metadata": {
        "id": "CHQ3lE73D8np"
      },
      "source": [
        "# # # Over-Complex network\n",
        "# # # More complex than needed \n",
        "\n",
        "model = Sequential()\n",
        "model.add(Dense(512, input_dim=38, activation='relu')) \n",
        "model.add(Dropout(0.5))\n",
        "model.add(Dense(256))\n",
        "model.add(Activation('relu'))\n",
        "model.add(Dropout(0.4))\n",
        "model.add(Dense(128))\n",
        "model.add(Activation('relu'))\n",
        "model.add(Dropout(0.4))\n",
        "model.add(Dense(64))\n",
        "model.add(Activation('relu'))\n",
        "model.add(Dropout(0.4))\n",
        "model.add(Dense(32))\n",
        "model.add(Activation('relu'))\n",
        "model.add(Dropout(0.4))\n",
        "model.add(Dense(8))\n",
        "model.add(Activation('relu'))\n",
        "model.add(Dropout(0.5))\n",
        "model.add(Dense(1)) \n",
        "model.add(Activation('sigmoid'))\n",
        "opt = Adam(lr=3e-4) \n",
        "\n",
        "model.compile(loss='binary_crossentropy',\n",
        "              optimizer=opt,             #also try adam\n",
        "              metrics=['accuracy'])\n",
        "\n",
        "#model.compile(loss='mean_squared_error', optimizer='adam')\n",
        "print(model.summary())\n"
      ],
      "execution_count": null,
      "outputs": []
    },
    {
      "cell_type": "code",
      "metadata": {
        "id": "HmZL7Hlk-0lp"
      },
      "source": [
        "#loss = model.fit(train_scaled, train_labels, epochs=20, batch_size=64, validation_split=0.2)"
      ],
      "execution_count": null,
      "outputs": []
    },
    {
      "cell_type": "code",
      "metadata": {
        "colab": {
          "base_uri": "https://localhost:8080/"
        },
        "id": "opzjjx6as9j0",
        "outputId": "95bfb2f7-8617-42a0-92b7-8fae26b3337f"
      },
      "source": [
        "#Fit with no early stopping or other callbacks\n",
        "history = model.fit(train_scaled, train_labels_scaled ,epochs=20, validation_split=0.2) # batch_size=64,\n",
        "                    #validation_data=(X_test, y_test))\n"
      ],
      "execution_count": null,
      "outputs": [
        {
          "output_type": "stream",
          "text": [
            "Epoch 1/20\n",
            "22967/22967 [==============================] - 39s 2ms/step - loss: 0.5240 - accuracy: 0.7576 - val_loss: 0.4806 - val_accuracy: 0.7881\n",
            "Epoch 2/20\n",
            "22967/22967 [==============================] - 37s 2ms/step - loss: 0.4905 - accuracy: 0.7809 - val_loss: 0.4785 - val_accuracy: 0.7809\n",
            "Epoch 3/20\n",
            "22967/22967 [==============================] - 37s 2ms/step - loss: 0.4881 - accuracy: 0.7822 - val_loss: 0.4775 - val_accuracy: 0.7875\n",
            "Epoch 4/20\n",
            "22967/22967 [==============================] - 38s 2ms/step - loss: 0.4871 - accuracy: 0.7830 - val_loss: 0.4778 - val_accuracy: 0.7902\n",
            "Epoch 5/20\n",
            "22967/22967 [==============================] - 37s 2ms/step - loss: 0.4843 - accuracy: 0.7851 - val_loss: 0.4775 - val_accuracy: 0.7876\n",
            "Epoch 6/20\n",
            "22967/22967 [==============================] - 37s 2ms/step - loss: 0.4859 - accuracy: 0.7844 - val_loss: 0.4760 - val_accuracy: 0.7904\n",
            "Epoch 7/20\n",
            "22967/22967 [==============================] - 37s 2ms/step - loss: 0.4847 - accuracy: 0.7856 - val_loss: 0.4746 - val_accuracy: 0.7898\n",
            "Epoch 8/20\n",
            "22967/22967 [==============================] - 37s 2ms/step - loss: 0.4851 - accuracy: 0.7846 - val_loss: 0.4746 - val_accuracy: 0.7899\n",
            "Epoch 9/20\n",
            "22967/22967 [==============================] - 37s 2ms/step - loss: 0.4845 - accuracy: 0.7855 - val_loss: 0.4747 - val_accuracy: 0.7910\n",
            "Epoch 10/20\n",
            "22967/22967 [==============================] - 37s 2ms/step - loss: 0.4842 - accuracy: 0.7861 - val_loss: 0.4745 - val_accuracy: 0.7904\n",
            "Epoch 11/20\n",
            "22967/22967 [==============================] - 37s 2ms/step - loss: 0.4835 - accuracy: 0.7857 - val_loss: 0.4751 - val_accuracy: 0.7841\n",
            "Epoch 12/20\n",
            "22967/22967 [==============================] - 37s 2ms/step - loss: 0.4839 - accuracy: 0.7859 - val_loss: 0.4743 - val_accuracy: 0.7858\n",
            "Epoch 13/20\n",
            "22967/22967 [==============================] - 37s 2ms/step - loss: 0.4833 - accuracy: 0.7866 - val_loss: 0.4749 - val_accuracy: 0.7840\n",
            "Epoch 14/20\n",
            "22967/22967 [==============================] - 37s 2ms/step - loss: 0.4829 - accuracy: 0.7865 - val_loss: 0.4740 - val_accuracy: 0.7902\n",
            "Epoch 15/20\n",
            "22967/22967 [==============================] - 37s 2ms/step - loss: 0.4828 - accuracy: 0.7872 - val_loss: 0.4729 - val_accuracy: 0.7901\n",
            "Epoch 16/20\n",
            "22967/22967 [==============================] - 37s 2ms/step - loss: 0.4835 - accuracy: 0.7858 - val_loss: 0.4726 - val_accuracy: 0.7911\n",
            "Epoch 17/20\n",
            "22967/22967 [==============================] - 36s 2ms/step - loss: 0.4838 - accuracy: 0.7862 - val_loss: 0.4730 - val_accuracy: 0.7902\n",
            "Epoch 18/20\n",
            "22967/22967 [==============================] - 37s 2ms/step - loss: 0.4834 - accuracy: 0.7864 - val_loss: 0.4768 - val_accuracy: 0.7818\n",
            "Epoch 19/20\n",
            "22967/22967 [==============================] - 37s 2ms/step - loss: 0.4836 - accuracy: 0.7855 - val_loss: 0.4728 - val_accuracy: 0.7904\n",
            "Epoch 20/20\n",
            "22967/22967 [==============================] - 37s 2ms/step - loss: 0.4828 - accuracy: 0.7867 - val_loss: 0.4741 - val_accuracy: 0.7905\n"
          ],
          "name": "stdout"
        }
      ]
    },
    {
      "cell_type": "code",
      "metadata": {
        "colab": {
          "base_uri": "https://localhost:8080/"
        },
        "id": "213-hOSzb5ta",
        "outputId": "dc68943b-93fc-41bf-f204-eff471d9b43c"
      },
      "source": [
        "loss_, acc = model.evaluate(test_scaled, test_labels_scaled)\n",
        "print(\"Accuracy = \", (acc), \"%\")\n",
        "print(\"Loss = \", (loss_), \"%\")\n",
        "# Accuracy =  79.47400212287903 % bbz kada cia taip paejo"
      ],
      "execution_count": null,
      "outputs": [
        {
          "output_type": "stream",
          "text": [
            "9570/9570 [==============================] - 10s 1ms/step - loss: 0.4722 - accuracy: 0.7909\n",
            "Accuracy =  0.7908668518066406 %\n",
            "Loss =  0.47222068905830383 %\n"
          ],
          "name": "stdout"
        }
      ]
    },
    {
      "cell_type": "code",
      "metadata": {
        "colab": {
          "base_uri": "https://localhost:8080/",
          "height": 573
        },
        "id": "SrSszVKWs2r_",
        "outputId": "e313a276-77c7-454f-b7cf-7946b4bfe6f2"
      },
      "source": [
        "#plot the training and validation accuracy and loss at each epoch\n",
        "loss = history.history['loss']\n",
        "val_loss = history.history['val_loss']\n",
        "epochs = range(1, len(loss) + 1)\n",
        "plt.plot(epochs, loss, 'y', label='Training loss')\n",
        "plt.plot(epochs, val_loss, 'r', label='Validation loss')\n",
        "plt.title('Training and validation loss')\n",
        "plt.xlabel('Epochs')\n",
        "plt.ylabel('Loss')\n",
        "plt.legend()\n",
        "plt.show()\n",
        "\n",
        "\n",
        "acc = history.history['accuracy']\n",
        "val_acc = history.history['val_accuracy']\n",
        "plt.plot(epochs, acc, 'y', label='Training acc')\n",
        "plt.plot(epochs, val_acc, 'r', label='Validation acc')\n",
        "plt.title('Training and validation accuracy')\n",
        "plt.xlabel('Epochs')\n",
        "plt.ylabel('Accuracy')\n",
        "plt.legend()\n",
        "plt.show()"
      ],
      "execution_count": null,
      "outputs": [
        {
          "output_type": "display_data",
          "data": {
            "image/png": "[encoded data removed]",
            "text/plain": [
              "<Figure size 432x288 with 1 Axes>"
            ]
          },
          "metadata": {
            "tags": []
          }
        },
        {
          "output_type": "display_data",
          "data": {
            "image/png": "[encoded data removed]",
            "text/plain": [
              "<Figure size 432x288 with 1 Axes>"
            ]
          },
          "metadata": {
            "tags": []
          }
        }
      ]
    },
    {
      "cell_type": "code",
      "metadata": {
        "id": "zCsqS0V-EHNx"
      },
      "source": [
        "# Predicting the Test set results\n",
        "y_pred = model.predict(test_scaled)\n",
        "y_pred = (y_pred > 0.50)"
      ],
      "execution_count": null,
      "outputs": []
    },
    {
      "cell_type": "code",
      "metadata": {
        "colab": {
          "base_uri": "https://localhost:8080/"
        },
        "id": "ZsrGzN33YRlR",
        "outputId": "f60007bb-dc79-400e-b928-59229f763091"
      },
      "source": [
        "# accuracy: (tp + tn) / (p + n)\n",
        "accuracy = metrics.accuracy_score(test_labels_scaled, y_pred)\n",
        "print('Accuracy: %f' % accuracy)\n",
        "# precision tp / (tp + fp)\n",
        "precision = metrics.precision_score(test_labels_scaled, y_pred)\n",
        "print('Precision: %f' % precision)\n",
        "# recall: tp / (tp + fn)\n",
        "recall = metrics.recall_score(test_labels_scaled, y_pred)\n",
        "print('Recall: %f' % recall)\n",
        "# f1: 2 tp / (2 tp + fp + fn)\n",
        "f1 = metrics.f1_score(test_labels_scaled, y_pred)\n",
        "print('F1 score: %f' % f1)\n",
        "\n",
        "# ROC AUC\n",
        "auc = metrics.roc_auc_score(test_labels_scaled, y_pred)\n",
        "print('ROC AUC: %f' % auc)\n",
        "# confusion matrix\n",
        "matrix = confusion_matrix(test_labels_scaled, y_pred)\n",
        "print(matrix)"
      ],
      "execution_count": null,
      "outputs": [
        {
          "output_type": "stream",
          "text": [
            "Accuracy: 0.790867\n",
            "Precision: 0.749569\n",
            "Recall: 0.926292\n",
            "F1 score: 0.828613\n",
            "ROC AUC: 0.777218\n",
            "[[ 87371  51723]\n",
            " [ 12319 154813]]\n"
          ],
          "name": "stdout"
        }
      ]
    },
    {
      "cell_type": "code",
      "metadata": {
        "id": "r1RAcIW7ELo0"
      },
      "source": [
        "#sns.heatmap(matrix, annot=True)"
      ],
      "execution_count": null,
      "outputs": []
    },
    {
      "cell_type": "code",
      "metadata": {
        "id": "4A6naZ3xpZ6F"
      },
      "source": [
        "# also draw ROC to look at thresholds! that maybe change results!"
      ],
      "execution_count": null,
      "outputs": []
    }
  ]
}